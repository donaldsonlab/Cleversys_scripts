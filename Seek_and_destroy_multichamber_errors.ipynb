{
 "cells": [
  {
   "cell_type": "code",
   "execution_count": 5,
   "metadata": {},
   "outputs": [],
   "source": [
    "import numpy as np\n",
    "import pandas as pd \n",
    "import Cleversys_Parser as cp\n",
    "from Useful_Functions import chamber_time\n",
    "from importlib import reload\n",
    "cp = reload(cp)\n"
   ]
  },
  {
   "cell_type": "code",
   "execution_count": 31,
   "metadata": {
    "scrolled": true
   },
   "outputs": [
    {
     "name": "stdout",
     "output_type": "stream",
     "text": [
      "{'huddle_left': 'EventRule17', 'huddle_right': 'EventRule22', 'proximity_left': 'EventRule31', 'proximity_right': 'EventRule32', 'left_chamber': 'EventRule4', 'right_chamber': 'EventRule5', 'center_chamber': 'EventRule6'}\n"
     ]
    }
   ],
   "source": [
    "cp = reload(cp)\n",
    "\n",
    "df, ani_id, fr, date = cp.parse_dev('/media/dprotter/Storage/Cleversys/CleverSys tracking txt files/Baseline_Cohort1/2020_11_23_2wkpaired_baseline_cohort1_try2_4_TCR.TXT') "
   ]
  },
  {
   "cell_type": "code",
   "execution_count": 41,
   "metadata": {
    "scrolled": true
   },
   "outputs": [
    {
     "name": "stdout",
     "output_type": "stream",
     "text": [
      "left chamber: 151322\n",
      "locamotion in left chamber: 6651\n",
      "locamotion in left, \"not in left\": 21\n",
      "locamotion in left, in center: 0\n"
     ]
    }
   ],
   "source": [
    "print(f'left chamber: {len(df.loc[(df.chamber_novel>0)])}')\n",
    "print(f'locamotion in left chamber: {len(df.loc[(df.EventRule9>0)])}')\n",
    "print(f'locamotion in left, \"not in left\": {len(df.loc[(df.EventRule9>0)&(df.chamber_novel==0)])}')\n",
    "print(f'locamotion in left, in center: {len(df.loc[(df.EventRule9>0)&(df.chamber_novel==0)&(df.chamber_center>0)])}')\n"
   ]
  },
  {
   "cell_type": "code",
   "execution_count": 42,
   "metadata": {},
   "outputs": [
    {
     "name": "stdout",
     "output_type": "stream",
     "text": [
      "uncertain frames = 108\n",
      "huddle_partner frames = 0\n",
      "huddle_novel frames = 0\n"
     ]
    }
   ],
   "source": [
    "sli = df.loc[(df.chamber_partner >0)&(df.chamber_novel >0)]\n",
    "print(f'uncertain frames = {len(sli)}')\n",
    "print(f'huddle_partner frames = {sum(sli.huddle_partner)}')\n",
    "print(f'huddle_novel frames = {sum(sli.huddle_novel)}')"
   ]
  },
  {
   "cell_type": "code",
   "execution_count": 43,
   "metadata": {
    "scrolled": true
   },
   "outputs": [
    {
     "name": "stdout",
     "output_type": "stream",
     "text": [
      "number of huddle_partner frames: 33976\n",
      "partner_chamber frames         : 33976\n"
     ]
    }
   ],
   "source": [
    "huddle_sli = df.loc[df.huddle_partner>0]\n",
    "print(f'number of huddle_partner frames: {len(huddle_sli)}')\n",
    "print(f'partner_chamber frames         : {sum(huddle_sli.chamber_partner >0)}')"
   ]
  },
  {
   "cell_type": "code",
   "execution_count": 44,
   "metadata": {},
   "outputs": [
    {
     "name": "stdout",
     "output_type": "stream",
     "text": [
      "number of huddle_novel frames: 8857\n",
      "partner_chamber frames         : 8857\n"
     ]
    }
   ],
   "source": [
    "huddle_sli = df.loc[df.huddle_novel>0]\n",
    "print(f'number of huddle_novel frames: {len(huddle_sli)}')\n",
    "print(f'partner_chamber frames         : {sum(huddle_sli.chamber_novel >0)}')"
   ]
  },
  {
   "cell_type": "code",
   "execution_count": 45,
   "metadata": {},
   "outputs": [
    {
     "name": "stdout",
     "output_type": "stream",
     "text": [
      "1133.6670003336671\n",
      "4564.931598264931\n",
      "(5049.115782449116, 4564.931598264931, 1193.15982649316)\n"
     ]
    }
   ],
   "source": [
    "huddle_sli = df.loc[df.huddle_partner>0]\n",
    "print(len(huddle_sli) / 29.97)\n",
    "print(len(df.loc[df.chamber_partner>0]) / 29.97)\n",
    "print(chamber_time(df, 29.97))"
   ]
  },
  {
   "cell_type": "code",
   "execution_count": null,
   "metadata": {},
   "outputs": [],
   "source": []
  },
  {
   "cell_type": "code",
   "execution_count": 37,
   "metadata": {},
   "outputs": [],
   "source": [
    "lr = len(df.loc[(df.chamber_partner >0)&(df.chamber_novel >0) & (df.chamber_center == 0)])\n",
    "\n",
    "lc = len(df.loc[(df.chamber_partner >0)&(df.chamber_novel ==0) & (df.chamber_center > 0)])\n",
    "\n",
    "rc = len(df.loc[(df.chamber_partner == 0)&(df.chamber_novel >0) & (df.chamber_center > 0)])\n",
    "\n",
    "lrc = len(df.loc[(df.chamber_partner > 0)&(df.chamber_novel >0) & (df.chamber_center > 0)])"
   ]
  },
  {
   "cell_type": "code",
   "execution_count": 38,
   "metadata": {},
   "outputs": [],
   "source": [
    "sli = df.loc[(df.chamber_partner >0)&(df.chamber_novel >0) & (df.chamber_center > 0)]"
   ]
  },
  {
   "cell_type": "code",
   "execution_count": 39,
   "metadata": {},
   "outputs": [
    {
     "data": {
      "text/html": [
       "<div>\n",
       "<style scoped>\n",
       "    .dataframe tbody tr th:only-of-type {\n",
       "        vertical-align: middle;\n",
       "    }\n",
       "\n",
       "    .dataframe tbody tr th {\n",
       "        vertical-align: top;\n",
       "    }\n",
       "\n",
       "    .dataframe thead th {\n",
       "        text-align: right;\n",
       "    }\n",
       "</style>\n",
       "<table border=\"1\" class=\"dataframe\">\n",
       "  <thead>\n",
       "    <tr style=\"text-align: right;\">\n",
       "      <th></th>\n",
       "      <th>FrameNum</th>\n",
       "      <th>[AnimalID]</th>\n",
       "      <th>CenterX(mm)</th>\n",
       "      <th>CenterY(mm)</th>\n",
       "      <th>NoseX(mm)</th>\n",
       "      <th>NoseY(mm)</th>\n",
       "      <th>Motion Orientation(-pi/2 to pi.2)</th>\n",
       "      <th>Unknown</th>\n",
       "      <th>Axis[0](mm)</th>\n",
       "      <th>Axis[1](mm)</th>\n",
       "      <th>...</th>\n",
       "      <th>EventRule42</th>\n",
       "      <th>original_frames</th>\n",
       "      <th>Time</th>\n",
       "      <th>original_time</th>\n",
       "      <th>Treatment Group</th>\n",
       "      <th>distance_to_partner</th>\n",
       "      <th>distance_to_novel</th>\n",
       "      <th>distance_traveled</th>\n",
       "      <th>distance_traveled_partner</th>\n",
       "      <th>distance_traveled_novel</th>\n",
       "    </tr>\n",
       "  </thead>\n",
       "  <tbody>\n",
       "    <tr>\n",
       "      <th>39400</th>\n",
       "      <td>39401</td>\n",
       "      <td>2968</td>\n",
       "      <td>1474.0</td>\n",
       "      <td>402.0</td>\n",
       "      <td>1469.0</td>\n",
       "      <td>382.0</td>\n",
       "      <td>0.137255</td>\n",
       "      <td>1.754765</td>\n",
       "      <td>27.0</td>\n",
       "      <td>14.0</td>\n",
       "      <td>...</td>\n",
       "      <td>1</td>\n",
       "      <td>40989</td>\n",
       "      <td>1314.681348</td>\n",
       "      <td>1367.667668</td>\n",
       "      <td>baseline</td>\n",
       "      <td>510.813077</td>\n",
       "      <td>153.081678</td>\n",
       "      <td>1.414214</td>\n",
       "      <td>0.000000</td>\n",
       "      <td>0.0</td>\n",
       "    </tr>\n",
       "    <tr>\n",
       "      <th>39401</th>\n",
       "      <td>39402</td>\n",
       "      <td>2968</td>\n",
       "      <td>1476.0</td>\n",
       "      <td>398.0</td>\n",
       "      <td>1482.0</td>\n",
       "      <td>378.0</td>\n",
       "      <td>0.250980</td>\n",
       "      <td>1.839285</td>\n",
       "      <td>23.0</td>\n",
       "      <td>12.0</td>\n",
       "      <td>...</td>\n",
       "      <td>1</td>\n",
       "      <td>40990</td>\n",
       "      <td>1314.714715</td>\n",
       "      <td>1367.701034</td>\n",
       "      <td>baseline</td>\n",
       "      <td>509.558633</td>\n",
       "      <td>155.003226</td>\n",
       "      <td>4.472136</td>\n",
       "      <td>0.000000</td>\n",
       "      <td>0.0</td>\n",
       "    </tr>\n",
       "    <tr>\n",
       "      <th>39402</th>\n",
       "      <td>39403</td>\n",
       "      <td>2968</td>\n",
       "      <td>NaN</td>\n",
       "      <td>NaN</td>\n",
       "      <td>NaN</td>\n",
       "      <td>NaN</td>\n",
       "      <td>NaN</td>\n",
       "      <td>NaN</td>\n",
       "      <td>NaN</td>\n",
       "      <td>NaN</td>\n",
       "      <td>...</td>\n",
       "      <td>1</td>\n",
       "      <td>40991</td>\n",
       "      <td>1314.748081</td>\n",
       "      <td>1367.734401</td>\n",
       "      <td>baseline</td>\n",
       "      <td>NaN</td>\n",
       "      <td>NaN</td>\n",
       "      <td>NaN</td>\n",
       "      <td>1.414214</td>\n",
       "      <td>0.0</td>\n",
       "    </tr>\n",
       "    <tr>\n",
       "      <th>39403</th>\n",
       "      <td>39404</td>\n",
       "      <td>2968</td>\n",
       "      <td>NaN</td>\n",
       "      <td>NaN</td>\n",
       "      <td>NaN</td>\n",
       "      <td>NaN</td>\n",
       "      <td>NaN</td>\n",
       "      <td>NaN</td>\n",
       "      <td>NaN</td>\n",
       "      <td>NaN</td>\n",
       "      <td>...</td>\n",
       "      <td>1</td>\n",
       "      <td>40992</td>\n",
       "      <td>1314.781448</td>\n",
       "      <td>1367.767768</td>\n",
       "      <td>baseline</td>\n",
       "      <td>NaN</td>\n",
       "      <td>NaN</td>\n",
       "      <td>NaN</td>\n",
       "      <td>0.000000</td>\n",
       "      <td>0.0</td>\n",
       "    </tr>\n",
       "    <tr>\n",
       "      <th>39404</th>\n",
       "      <td>39405</td>\n",
       "      <td>2968</td>\n",
       "      <td>NaN</td>\n",
       "      <td>NaN</td>\n",
       "      <td>NaN</td>\n",
       "      <td>NaN</td>\n",
       "      <td>NaN</td>\n",
       "      <td>NaN</td>\n",
       "      <td>NaN</td>\n",
       "      <td>NaN</td>\n",
       "      <td>...</td>\n",
       "      <td>1</td>\n",
       "      <td>40993</td>\n",
       "      <td>1314.814815</td>\n",
       "      <td>1367.801134</td>\n",
       "      <td>baseline</td>\n",
       "      <td>NaN</td>\n",
       "      <td>NaN</td>\n",
       "      <td>NaN</td>\n",
       "      <td>0.000000</td>\n",
       "      <td>1.0</td>\n",
       "    </tr>\n",
       "    <tr>\n",
       "      <th>...</th>\n",
       "      <td>...</td>\n",
       "      <td>...</td>\n",
       "      <td>...</td>\n",
       "      <td>...</td>\n",
       "      <td>...</td>\n",
       "      <td>...</td>\n",
       "      <td>...</td>\n",
       "      <td>...</td>\n",
       "      <td>...</td>\n",
       "      <td>...</td>\n",
       "      <td>...</td>\n",
       "      <td>...</td>\n",
       "      <td>...</td>\n",
       "      <td>...</td>\n",
       "      <td>...</td>\n",
       "      <td>...</td>\n",
       "      <td>...</td>\n",
       "      <td>...</td>\n",
       "      <td>...</td>\n",
       "      <td>...</td>\n",
       "      <td>...</td>\n",
       "    </tr>\n",
       "    <tr>\n",
       "      <th>169699</th>\n",
       "      <td>169700</td>\n",
       "      <td>2968</td>\n",
       "      <td>NaN</td>\n",
       "      <td>NaN</td>\n",
       "      <td>NaN</td>\n",
       "      <td>NaN</td>\n",
       "      <td>NaN</td>\n",
       "      <td>NaN</td>\n",
       "      <td>NaN</td>\n",
       "      <td>NaN</td>\n",
       "      <td>...</td>\n",
       "      <td>1</td>\n",
       "      <td>171288</td>\n",
       "      <td>5662.328996</td>\n",
       "      <td>5715.315315</td>\n",
       "      <td>baseline</td>\n",
       "      <td>NaN</td>\n",
       "      <td>NaN</td>\n",
       "      <td>NaN</td>\n",
       "      <td>0.000000</td>\n",
       "      <td>0.0</td>\n",
       "    </tr>\n",
       "    <tr>\n",
       "      <th>169700</th>\n",
       "      <td>169701</td>\n",
       "      <td>2968</td>\n",
       "      <td>NaN</td>\n",
       "      <td>NaN</td>\n",
       "      <td>NaN</td>\n",
       "      <td>NaN</td>\n",
       "      <td>NaN</td>\n",
       "      <td>NaN</td>\n",
       "      <td>NaN</td>\n",
       "      <td>NaN</td>\n",
       "      <td>...</td>\n",
       "      <td>1</td>\n",
       "      <td>171289</td>\n",
       "      <td>5662.362362</td>\n",
       "      <td>5715.348682</td>\n",
       "      <td>baseline</td>\n",
       "      <td>NaN</td>\n",
       "      <td>NaN</td>\n",
       "      <td>NaN</td>\n",
       "      <td>0.000000</td>\n",
       "      <td>1.0</td>\n",
       "    </tr>\n",
       "    <tr>\n",
       "      <th>169701</th>\n",
       "      <td>169702</td>\n",
       "      <td>2968</td>\n",
       "      <td>NaN</td>\n",
       "      <td>NaN</td>\n",
       "      <td>NaN</td>\n",
       "      <td>NaN</td>\n",
       "      <td>NaN</td>\n",
       "      <td>NaN</td>\n",
       "      <td>NaN</td>\n",
       "      <td>NaN</td>\n",
       "      <td>...</td>\n",
       "      <td>1</td>\n",
       "      <td>171290</td>\n",
       "      <td>5662.395729</td>\n",
       "      <td>5715.382049</td>\n",
       "      <td>baseline</td>\n",
       "      <td>NaN</td>\n",
       "      <td>NaN</td>\n",
       "      <td>NaN</td>\n",
       "      <td>0.000000</td>\n",
       "      <td>0.0</td>\n",
       "    </tr>\n",
       "    <tr>\n",
       "      <th>169702</th>\n",
       "      <td>169703</td>\n",
       "      <td>2968</td>\n",
       "      <td>NaN</td>\n",
       "      <td>NaN</td>\n",
       "      <td>NaN</td>\n",
       "      <td>NaN</td>\n",
       "      <td>NaN</td>\n",
       "      <td>NaN</td>\n",
       "      <td>NaN</td>\n",
       "      <td>NaN</td>\n",
       "      <td>...</td>\n",
       "      <td>1</td>\n",
       "      <td>171291</td>\n",
       "      <td>5662.429096</td>\n",
       "      <td>5715.415415</td>\n",
       "      <td>baseline</td>\n",
       "      <td>NaN</td>\n",
       "      <td>NaN</td>\n",
       "      <td>NaN</td>\n",
       "      <td>0.000000</td>\n",
       "      <td>0.0</td>\n",
       "    </tr>\n",
       "    <tr>\n",
       "      <th>169703</th>\n",
       "      <td>169704</td>\n",
       "      <td>2968</td>\n",
       "      <td>NaN</td>\n",
       "      <td>NaN</td>\n",
       "      <td>NaN</td>\n",
       "      <td>NaN</td>\n",
       "      <td>NaN</td>\n",
       "      <td>NaN</td>\n",
       "      <td>NaN</td>\n",
       "      <td>NaN</td>\n",
       "      <td>...</td>\n",
       "      <td>1</td>\n",
       "      <td>171292</td>\n",
       "      <td>5662.462462</td>\n",
       "      <td>5715.448782</td>\n",
       "      <td>baseline</td>\n",
       "      <td>NaN</td>\n",
       "      <td>NaN</td>\n",
       "      <td>NaN</td>\n",
       "      <td>0.000000</td>\n",
       "      <td>0.0</td>\n",
       "    </tr>\n",
       "  </tbody>\n",
       "</table>\n",
       "<p>108 rows × 91 columns</p>\n",
       "</div>"
      ],
      "text/plain": [
       "        FrameNum [AnimalID]  CenterX(mm)  CenterY(mm)  NoseX(mm)  NoseY(mm)  \\\n",
       "39400      39401       2968       1474.0        402.0     1469.0      382.0   \n",
       "39401      39402       2968       1476.0        398.0     1482.0      378.0   \n",
       "39402      39403       2968          NaN          NaN        NaN        NaN   \n",
       "39403      39404       2968          NaN          NaN        NaN        NaN   \n",
       "39404      39405       2968          NaN          NaN        NaN        NaN   \n",
       "...          ...        ...          ...          ...        ...        ...   \n",
       "169699    169700       2968          NaN          NaN        NaN        NaN   \n",
       "169700    169701       2968          NaN          NaN        NaN        NaN   \n",
       "169701    169702       2968          NaN          NaN        NaN        NaN   \n",
       "169702    169703       2968          NaN          NaN        NaN        NaN   \n",
       "169703    169704       2968          NaN          NaN        NaN        NaN   \n",
       "\n",
       "        Motion Orientation(-pi/2 to pi.2)   Unknown  Axis[0](mm)  Axis[1](mm)  \\\n",
       "39400                            0.137255  1.754765         27.0         14.0   \n",
       "39401                            0.250980  1.839285         23.0         12.0   \n",
       "39402                                 NaN       NaN          NaN          NaN   \n",
       "39403                                 NaN       NaN          NaN          NaN   \n",
       "39404                                 NaN       NaN          NaN          NaN   \n",
       "...                                   ...       ...          ...          ...   \n",
       "169699                                NaN       NaN          NaN          NaN   \n",
       "169700                                NaN       NaN          NaN          NaN   \n",
       "169701                                NaN       NaN          NaN          NaN   \n",
       "169702                                NaN       NaN          NaN          NaN   \n",
       "169703                                NaN       NaN          NaN          NaN   \n",
       "\n",
       "        ...  EventRule42  original_frames         Time original_time  \\\n",
       "39400   ...            1            40989  1314.681348   1367.667668   \n",
       "39401   ...            1            40990  1314.714715   1367.701034   \n",
       "39402   ...            1            40991  1314.748081   1367.734401   \n",
       "39403   ...            1            40992  1314.781448   1367.767768   \n",
       "39404   ...            1            40993  1314.814815   1367.801134   \n",
       "...     ...          ...              ...          ...           ...   \n",
       "169699  ...            1           171288  5662.328996   5715.315315   \n",
       "169700  ...            1           171289  5662.362362   5715.348682   \n",
       "169701  ...            1           171290  5662.395729   5715.382049   \n",
       "169702  ...            1           171291  5662.429096   5715.415415   \n",
       "169703  ...            1           171292  5662.462462   5715.448782   \n",
       "\n",
       "       Treatment Group  distance_to_partner  distance_to_novel  \\\n",
       "39400         baseline           510.813077         153.081678   \n",
       "39401         baseline           509.558633         155.003226   \n",
       "39402         baseline                  NaN                NaN   \n",
       "39403         baseline                  NaN                NaN   \n",
       "39404         baseline                  NaN                NaN   \n",
       "...                ...                  ...                ...   \n",
       "169699        baseline                  NaN                NaN   \n",
       "169700        baseline                  NaN                NaN   \n",
       "169701        baseline                  NaN                NaN   \n",
       "169702        baseline                  NaN                NaN   \n",
       "169703        baseline                  NaN                NaN   \n",
       "\n",
       "        distance_traveled  distance_traveled_partner  distance_traveled_novel  \n",
       "39400            1.414214                   0.000000                      0.0  \n",
       "39401            4.472136                   0.000000                      0.0  \n",
       "39402                 NaN                   1.414214                      0.0  \n",
       "39403                 NaN                   0.000000                      0.0  \n",
       "39404                 NaN                   0.000000                      1.0  \n",
       "...                   ...                        ...                      ...  \n",
       "169699                NaN                   0.000000                      0.0  \n",
       "169700                NaN                   0.000000                      1.0  \n",
       "169701                NaN                   0.000000                      0.0  \n",
       "169702                NaN                   0.000000                      0.0  \n",
       "169703                NaN                   0.000000                      0.0  \n",
       "\n",
       "[108 rows x 91 columns]"
      ]
     },
     "execution_count": 39,
     "metadata": {},
     "output_type": "execute_result"
    }
   ],
   "source": [
    "df.loc[(df.chamber_partner > 0)&(df.chamber_novel >0) & (df.chamber_center > 0)]"
   ]
  },
  {
   "cell_type": "code",
   "execution_count": 40,
   "metadata": {},
   "outputs": [
    {
     "data": {
      "text/plain": [
       "0.000333667000333667"
      ]
     },
     "execution_count": 40,
     "metadata": {},
     "output_type": "execute_result"
    }
   ],
   "source": [
    "#pct of frames where the animal is IDd in multiple chambers. \n",
    "(lr+lc+rc+lrc) / len(df)"
   ]
  },
  {
   "cell_type": "code",
   "execution_count": 9,
   "metadata": {},
   "outputs": [
    {
     "data": {
      "text/plain": [
       "0.13879929312028078"
      ]
     },
     "execution_count": 9,
     "metadata": {},
     "output_type": "execute_result"
    }
   ],
   "source": [
    "#pct of frames where the animal pos is unknown\n",
    "len(df.loc[df['CenterX(mm)'].isna()])/len(df)"
   ]
  },
  {
   "cell_type": "code",
   "execution_count": 10,
   "metadata": {},
   "outputs": [
    {
     "name": "stdout",
     "output_type": "stream",
     "text": [
      " lc:40\n",
      " lr:0\n",
      " rc:32\n",
      "lrc:44844\n"
     ]
    }
   ],
   "source": [
    "#number of frames where the animal is IDd in multiple regions, by region\n",
    "#almost entirely assigned to all 3 chambers.\n",
    "print(f' lc:{lc}\\n lr:{lr}\\n rc:{rc}\\nlrc:{lrc}')"
   ]
  },
  {
   "cell_type": "code",
   "execution_count": 11,
   "metadata": {},
   "outputs": [
    {
     "data": {
      "text/plain": [
       "0         1311.0\n",
       "1         1311.0\n",
       "2         1311.0\n",
       "3         1311.0\n",
       "4         1311.0\n",
       "           ...  \n",
       "323671    1307.0\n",
       "323672    1307.0\n",
       "323673    1307.0\n",
       "323674    1307.0\n",
       "323675    1307.0\n",
       "Name: CenterX(mm)_partner, Length: 323676, dtype: float64"
      ]
     },
     "execution_count": 11,
     "metadata": {},
     "output_type": "execute_result"
    }
   ],
   "source": [
    "df['CenterX(mm)_partner']"
   ]
  },
  {
   "cell_type": "code",
   "execution_count": 12,
   "metadata": {},
   "outputs": [],
   "source": [
    "sli = df.loc[(df.chamber_partner >0)&(df.chamber_novel >0) & (df.chamber_center > 0)]"
   ]
  },
  {
   "cell_type": "code",
   "execution_count": 13,
   "metadata": {},
   "outputs": [
    {
     "data": {
      "text/plain": [
       "0"
      ]
     },
     "execution_count": 13,
     "metadata": {},
     "output_type": "execute_result"
    }
   ],
   "source": [
    "sli['huddle_novel'].sum()"
   ]
  },
  {
   "cell_type": "code",
   "execution_count": 14,
   "metadata": {},
   "outputs": [
    {
     "data": {
      "text/plain": [
       "4"
      ]
     },
     "execution_count": 14,
     "metadata": {},
     "output_type": "execute_result"
    }
   ],
   "source": [
    "sli['huddle_partner'].sum()"
   ]
  },
  {
   "cell_type": "code",
   "execution_count": 15,
   "metadata": {},
   "outputs": [
    {
     "data": {
      "text/plain": [
       "0"
      ]
     },
     "execution_count": 15,
     "metadata": {},
     "output_type": "execute_result"
    }
   ],
   "source": [
    "sli['partner_dist_less_10cm'].sum()"
   ]
  },
  {
   "cell_type": "code",
   "execution_count": 16,
   "metadata": {},
   "outputs": [
    {
     "data": {
      "text/plain": [
       "0"
      ]
     },
     "execution_count": 16,
     "metadata": {},
     "output_type": "execute_result"
    }
   ],
   "source": [
    "sli['novel_dist_less_10cm'].sum()"
   ]
  },
  {
   "cell_type": "code",
   "execution_count": 17,
   "metadata": {},
   "outputs": [
    {
     "data": {
      "text/plain": [
       "Index(['FrameNum', '[AnimalID]', 'CenterX(mm)', 'CenterY(mm)', 'NoseX(mm)',\n",
       "       'NoseY(mm)', 'Motion Orientation(-pi/2 to pi.2)', 'Unknown',\n",
       "       'Axis[0](mm)', 'Axis[1](mm)', 'TurningAngleSum', 'DistanceSum(mm)',\n",
       "       '[Center_Areas]', '[Nose_Areas]', '[AnimalID]_partner',\n",
       "       'CenterX(mm)_partner', 'CenterY(mm)_partner', 'NoseX(mm)_partner',\n",
       "       'NoseY(mm)_partner', 'Motion Orientation(-pi/2 to pi.2)_partner',\n",
       "       'Unknown_partner', 'Axis[0](mm)_partner', 'Axis[1](mm)_partner',\n",
       "       'TurningAngleSum_partner', 'DistanceSum(mm)_partner',\n",
       "       '[Center_Areas]_partner', '[Nose_Areas]_partner', '[AnimalID]_novel',\n",
       "       'CenterX(mm)_novel', 'CenterY(mm)_novel', 'NoseX(mm)_novel',\n",
       "       'NoseY(mm)_novel', 'Motion Orientation(-pi/2 to pi.2)_novel',\n",
       "       'Unknown_novel', 'Axis[0](mm)_novel', 'Axis[1](mm)_novel',\n",
       "       'TurningAngleSum_novel', 'DistanceSum(mm)_novel',\n",
       "       '[Center_Areas]_novel', '[Nose_Areas]_novel', 'EventRule1',\n",
       "       'EventRule2', 'EventRule3', 'chamber_partner', 'chamber_novel',\n",
       "       'chamber_center', 'EventRule7', 'EventRule8', 'EventRule9',\n",
       "       'EventRule10', 'EventRule11', 'EventRule12', 'EventRule13',\n",
       "       'EventRule14', 'EventRule15', 'EventRule16', 'huddle_partner',\n",
       "       'EventRule18', 'EventRule19', 'EventRule20', 'EventRule21',\n",
       "       'huddle_novel', 'EventRule23', 'EventRule24', 'EventRule25',\n",
       "       'EventRule26', 'EventRule27', 'EventRule28', 'EventRule29',\n",
       "       'EventRule30', 'partner_dist_less_10cm', 'novel_dist_less_10cm',\n",
       "       'EventRule33', 'EventRule34', 'EventRule35', 'EventRule36',\n",
       "       'EventRule37', 'EventRule38', 'EventRule39', 'EventRule40',\n",
       "       'EventRule41', 'EventRule42', 'original_frames', 'Time',\n",
       "       'original_time', 'Treatment Group', 'distance_to_partner',\n",
       "       'distance_to_novel', 'distance_traveled', 'distance_traveled_partner',\n",
       "       'distance_traveled_novel'],\n",
       "      dtype='object')"
      ]
     },
     "execution_count": 17,
     "metadata": {},
     "output_type": "execute_result"
    }
   ],
   "source": [
    "sli.columns"
   ]
  },
  {
   "cell_type": "code",
   "execution_count": 18,
   "metadata": {},
   "outputs": [],
   "source": [
    "\n",
    "indices = df.loc[(df.chamber_partner >0)&(df.chamber_novel >0) & (df.chamber_center > 0)].index"
   ]
  },
  {
   "cell_type": "code",
   "execution_count": 19,
   "metadata": {},
   "outputs": [
    {
     "data": {
      "text/plain": [
       "Int64Index([ 12895,  12896,  12897,  12898,  12899,  12900,  12901,  12902,\n",
       "             12903,  12904,\n",
       "            ...\n",
       "            314355, 314356, 314357, 314358, 314359, 314360, 314361, 314362,\n",
       "            314363, 314364],\n",
       "           dtype='int64', length=44844)"
      ]
     },
     "execution_count": 19,
     "metadata": {},
     "output_type": "execute_result"
    }
   ],
   "source": [
    "indices"
   ]
  },
  {
   "cell_type": "code",
   "execution_count": 20,
   "metadata": {},
   "outputs": [
    {
     "data": {
      "text/plain": [
       "[<matplotlib.lines.Line2D at 0x7fba97444a30>]"
      ]
     },
     "execution_count": 20,
     "metadata": {},
     "output_type": "execute_result"
    },
    {
     "data": {
      "image/png": "[encoded data removed]",
      "text/plain": [
       "<Figure size 432x288 with 1 Axes>"
      ]
     },
     "metadata": {
      "needs_background": "light"
     },
     "output_type": "display_data"
    }
   ],
   "source": [
    "import matplotlib.pyplot as plt\n",
    "plt.plot(indices)\n",
    "diff = indices[1:] - indices[:-1]\n",
    "new = [1 if val == 1 else 0 for val in diff]\n",
    "plt.plot(diff)"
   ]
  },
  {
   "cell_type": "code",
   "execution_count": 21,
   "metadata": {},
   "outputs": [],
   "source": [
    "def get_index_pairs(index_list):\n",
    "    diff = index_list[1:] - index_list[:-1]\n",
    "    new = np.asarray([True if val == 1 else False for val in diff])\n",
    "    new = np.logical_not(new)\n",
    "    if not new[-1]:\n",
    "        new[-1] = True\n",
    "    transition_indices = np.where(new)[0]\n",
    "\n",
    "    sets = []\n",
    "    prev = 0\n",
    "    for val in transition_indices:\n",
    "        try:\n",
    "            sets += [index_list[prev:val+1]]\n",
    "            prev = val+1\n",
    "        except:\n",
    "            print(f'prev:{prev}, val:{val}')\n",
    "\n",
    "    pairs = []\n",
    "    for i, s in enumerate(sets):\n",
    "        if len(s) > 1:\n",
    "            pairs += [[s[0], s[-1]]]\n",
    "        elif len(s) == 1:\n",
    "            pairs += [[s[0], s[0]]]\n",
    "        else:\n",
    "            print('oops')\n",
    "            print(s)\n",
    "            \n",
    "    return np.asarray(pairs)\n"
   ]
  },
  {
   "cell_type": "code",
   "execution_count": 22,
   "metadata": {},
   "outputs": [],
   "source": [
    "def get_index_pairs_v2(index_list):\n",
    "\n",
    "    #offset the index list by 1 and take the difference\n",
    "    diff = index_list[1:] - index_list[:-1]\n",
    "\n",
    "    #where the difference is 1 the indices are sequential. Label nonsequential True\n",
    "    new = np.asarray([False if val == 1 else True for val in diff])\n",
    "\n",
    "        \n",
    "    #get the location of the transition indices\n",
    "    transition_indices = np.where(new)[0]\n",
    "\n",
    "    sets = []\n",
    "    pairs = []\n",
    "\n",
    "    prev = 0\n",
    "    \n",
    "    for val in transition_indices:\n",
    "        \n",
    "        try:\n",
    "            \n",
    "                    \n",
    "            #list s of sequential indeces, starting at location 0 (first index in \n",
    "            # index_list )\n",
    "            s = index_list[prev:val+1]\n",
    "            \n",
    "            #add the list s to sets. not using this at the moment, but could be\n",
    "            #useful down the line\n",
    "            sets += [s]\n",
    "            \n",
    "            #update prev for the next loop\n",
    "            prev = val+1\n",
    "\n",
    "            if len(s) > 1:\n",
    "                #if the list s has more than one value take the first and last\n",
    "                pairs += [[s[0], s[-1]]]\n",
    "            elif len(s) == 1:\n",
    "                #if the s has just one value, it is both the 'start' and 'stop' of \n",
    "                # a sequence\n",
    "\n",
    "                pairs += [[s[0], s[0]]]\n",
    "            else:\n",
    "                #we shouldnt ever get here. an empty list.\n",
    "                print('oops')\n",
    "                print(s)\n",
    "        except:\n",
    "            print(f'prev:{prev}, val:{val}')\n",
    "        \n",
    "    if new[-1]:\n",
    "        sets += [[index_list[-1]]]\n",
    "        pairs += [[index_list[-1] , index_list[-1]]]\n",
    "    else:\n",
    "        sets += [[index_list[prev:]]]\n",
    "        pairs += [[index_list[prev], index_list[-1]]]\n",
    "    return np.asarray(pairs)\n",
    "\n",
    "\n",
    "def get_previous_location(df, search_start_index, current_loc = None, window = 3,\n",
    "                            max_distance = 10):\n",
    "\n",
    "        ############dont forget  we need to give julie the times she needs to \n",
    "        # use to look at the videos\n",
    "\n",
    "        #double check if \n",
    "    start = search_start_index-1 if not current_loc else current_loc\n",
    "    current_loc = current_loc if current_loc else start\n",
    "    \n",
    "    sli = df.iloc[start-window:start]\n",
    "    sli = sli.loc[:,'chamber_partner':'chamber_novel']\n",
    "    \n",
    "    #check if the sum of all the 1's is greater than the window length, which would mean \n",
    "    #that there is at least once place where the animal is listed in both chambers\n",
    "    if np.sum(sli.values) > window:\n",
    "        #we've encountered a place where there was a multi-assignment\n",
    "        if np.abs(current_loc-search_start_index) < max_distance:\n",
    "            #if we havent gone to far, try taking another step back in time\n",
    "            return get_previous_location(df,            \n",
    "                                    search_start_index, current_loc = current_loc - 1, \n",
    "                                    window = window, \n",
    "                                    max_distance = max_distance)\n",
    "        else:\n",
    "            return -1, 'failed'\n",
    "    \n",
    "    else:\n",
    "        #return the index the reassignment is taken from, and the column to \n",
    "        #set to 1 (True)\n",
    "        return current_loc, sli.sum().idxmax()\n",
    "\n",
    "\n"
   ]
  },
  {
   "cell_type": "code",
   "execution_count": 23,
   "metadata": {},
   "outputs": [],
   "source": [
    "\n",
    "indices = np.asarray([3,4,5,9,10,11,12,15,18,19,20,24])\n",
    "\n",
    "diff = indices[1:] - indices[:-1]\n",
    "new = np.asarray([True if val == 1 else False for val in diff])\n",
    "new = np.logical_not(new)\n",
    "transition_indices = np.where(new)[0]"
   ]
  },
  {
   "cell_type": "code",
   "execution_count": 24,
   "metadata": {},
   "outputs": [
    {
     "data": {
      "text/plain": [
       "array([ 2,  6,  7, 10])"
      ]
     },
     "execution_count": 24,
     "metadata": {},
     "output_type": "execute_result"
    }
   ],
   "source": [
    "transition_indices"
   ]
  },
  {
   "cell_type": "code",
   "execution_count": 25,
   "metadata": {},
   "outputs": [],
   "source": [
    "prev = 0\n",
    "sets = []\n",
    "for val in transition_indices:\n",
    "    sets+=[indices[prev:val+1]]\n",
    "    prev = val+1\n"
   ]
  },
  {
   "cell_type": "code",
   "execution_count": 26,
   "metadata": {
    "tags": []
   },
   "outputs": [],
   "source": [
    "ind = df.loc[(df.chamber_partner >0)&(df.chamber_novel >0) & (df.chamber_center > 0)].index\n",
    "\n",
    "pairs = get_index_pairs_v2(ind)"
   ]
  },
  {
   "cell_type": "code",
   "execution_count": 27,
   "metadata": {},
   "outputs": [
    {
     "name": "stdout",
     "output_type": "stream",
     "text": [
      "chamber_partner    0\n",
      "chamber_novel      3\n",
      "chamber_center     0\n",
      "dtype: int64\n",
      "\n",
      "\n",
      "chamber_partner    3\n",
      "chamber_novel      0\n",
      "chamber_center     0\n",
      "dtype: int64\n",
      "\n",
      "\n",
      "chamber_partner    0\n",
      "chamber_novel      3\n",
      "chamber_center     0\n",
      "dtype: int64\n",
      "\n",
      "\n",
      "chamber_partner    0\n",
      "chamber_novel      3\n",
      "chamber_center     0\n",
      "dtype: int64\n",
      "\n",
      "\n",
      "chamber_partner    3\n",
      "chamber_novel      0\n",
      "chamber_center     1\n",
      "dtype: int64\n",
      "       chamber_partner  chamber_novel  chamber_center\n",
      "26469                1              0               0\n",
      "26470                1              0               0\n",
      "26471                1              0               1\n",
      "\n",
      "\n",
      "chamber_partner    3\n",
      "chamber_novel      0\n",
      "chamber_center     0\n",
      "dtype: int64\n",
      "\n",
      "\n",
      "chamber_partner    3\n",
      "chamber_novel      0\n",
      "chamber_center     0\n",
      "dtype: int64\n",
      "\n",
      "\n",
      "chamber_partner    3\n",
      "chamber_novel      0\n",
      "chamber_center     0\n",
      "dtype: int64\n",
      "\n",
      "\n",
      "chamber_partner    0\n",
      "chamber_novel      3\n",
      "chamber_center     0\n",
      "dtype: int64\n",
      "\n",
      "\n",
      "chamber_partner    0\n",
      "chamber_novel      3\n",
      "chamber_center     0\n",
      "dtype: int64\n",
      "\n",
      "\n",
      "chamber_partner    3\n",
      "chamber_novel      0\n",
      "chamber_center     0\n",
      "dtype: int64\n",
      "\n",
      "\n",
      "chamber_partner    3\n",
      "chamber_novel      0\n",
      "chamber_center     0\n",
      "dtype: int64\n",
      "\n",
      "\n",
      "chamber_partner    0\n",
      "chamber_novel      3\n",
      "chamber_center     0\n",
      "dtype: int64\n",
      "\n",
      "\n",
      "chamber_partner    3\n",
      "chamber_novel      0\n",
      "chamber_center     0\n",
      "dtype: int64\n",
      "\n",
      "\n",
      "chamber_partner    3\n",
      "chamber_novel      0\n",
      "chamber_center     0\n",
      "dtype: int64\n",
      "\n",
      "\n",
      "chamber_partner    3\n",
      "chamber_novel      0\n",
      "chamber_center     0\n",
      "dtype: int64\n",
      "\n",
      "\n",
      "chamber_partner    0\n",
      "chamber_novel      3\n",
      "chamber_center     0\n",
      "dtype: int64\n",
      "\n",
      "\n",
      "chamber_partner    0\n",
      "chamber_novel      3\n",
      "chamber_center     0\n",
      "dtype: int64\n",
      "\n",
      "\n",
      "chamber_partner    0\n",
      "chamber_novel      3\n",
      "chamber_center     0\n",
      "dtype: int64\n",
      "\n",
      "\n",
      "chamber_partner    3\n",
      "chamber_novel      0\n",
      "chamber_center     0\n",
      "dtype: int64\n",
      "\n",
      "\n",
      "chamber_partner    3\n",
      "chamber_novel      0\n",
      "chamber_center     0\n",
      "dtype: int64\n",
      "\n",
      "\n",
      "chamber_partner    3\n",
      "chamber_novel      0\n",
      "chamber_center     0\n",
      "dtype: int64\n",
      "\n",
      "\n",
      "chamber_partner    3\n",
      "chamber_novel      0\n",
      "chamber_center     0\n",
      "dtype: int64\n",
      "\n",
      "\n",
      "chamber_partner    3\n",
      "chamber_novel      0\n",
      "chamber_center     0\n",
      "dtype: int64\n",
      "\n",
      "\n",
      "chamber_partner    3\n",
      "chamber_novel      0\n",
      "chamber_center     0\n",
      "dtype: int64\n",
      "\n",
      "\n",
      "chamber_partner    3\n",
      "chamber_novel      0\n",
      "chamber_center     0\n",
      "dtype: int64\n",
      "\n",
      "\n",
      "chamber_partner    3\n",
      "chamber_novel      0\n",
      "chamber_center     0\n",
      "dtype: int64\n",
      "\n",
      "\n",
      "chamber_partner    3\n",
      "chamber_novel      0\n",
      "chamber_center     0\n",
      "dtype: int64\n",
      "\n",
      "\n",
      "chamber_partner    3\n",
      "chamber_novel      0\n",
      "chamber_center     0\n",
      "dtype: int64\n",
      "\n",
      "\n",
      "chamber_partner    3\n",
      "chamber_novel      0\n",
      "chamber_center     0\n",
      "dtype: int64\n",
      "\n",
      "\n",
      "chamber_partner    3\n",
      "chamber_novel      0\n",
      "chamber_center     0\n",
      "dtype: int64\n",
      "\n",
      "\n",
      "chamber_partner    0\n",
      "chamber_novel      3\n",
      "chamber_center     1\n",
      "dtype: int64\n",
      "        chamber_partner  chamber_novel  chamber_center\n",
      "167407                0              1               0\n",
      "167408                0              1               0\n",
      "167409                0              1               1\n",
      "\n",
      "\n",
      "chamber_partner    3\n",
      "chamber_novel      0\n",
      "chamber_center     3\n",
      "dtype: int64\n",
      "        chamber_partner  chamber_novel  chamber_center\n",
      "185333                1              0               1\n",
      "185334                1              0               1\n",
      "185335                1              0               1\n",
      "\n",
      "\n",
      "chamber_partner    3\n",
      "chamber_novel      0\n",
      "chamber_center     1\n",
      "dtype: int64\n",
      "        chamber_partner  chamber_novel  chamber_center\n",
      "185863                1              0               0\n",
      "185864                1              0               0\n",
      "185865                1              0               1\n",
      "\n",
      "\n",
      "chamber_partner    0\n",
      "chamber_novel      0\n",
      "chamber_center     3\n",
      "dtype: int64\n",
      "\n",
      "\n",
      "chamber_partner    3\n",
      "chamber_novel      0\n",
      "chamber_center     1\n",
      "dtype: int64\n",
      "        chamber_partner  chamber_novel  chamber_center\n",
      "202171                1              0               0\n",
      "202172                1              0               0\n",
      "202173                1              0               1\n",
      "\n",
      "\n",
      "chamber_partner    3\n",
      "chamber_novel      0\n",
      "chamber_center     3\n",
      "dtype: int64\n",
      "        chamber_partner  chamber_novel  chamber_center\n",
      "264646                1              0               1\n",
      "264647                1              0               1\n",
      "264648                1              0               1\n",
      "\n",
      "\n",
      "chamber_partner    0\n",
      "chamber_novel      0\n",
      "chamber_center     3\n",
      "dtype: int64\n",
      "\n",
      "\n",
      "chamber_partner    3\n",
      "chamber_novel      0\n",
      "chamber_center     0\n",
      "dtype: int64\n",
      "\n",
      "\n",
      "chamber_partner    3\n",
      "chamber_novel      0\n",
      "chamber_center     0\n",
      "dtype: int64\n",
      "\n",
      "\n"
     ]
    }
   ],
   "source": [
    "for start, finish in pairs:\n",
    "\n",
    "\n",
    "\n",
    "\n",
    "    sli = df.iloc[start-3:start]\n",
    "    sli = sli.loc[:,'chamber_partner':'chamber_center']\n",
    "    print(np.sum(sli, axis = 0))\n",
    "    if np.sum(sli.loc[:,'chamber_partner':'chamber_center'].values) > 3:\n",
    "        print(sli.loc[:,'chamber_partner':'chamber_center'])\n",
    "    \n",
    "    print('\\n')"
   ]
  },
  {
   "cell_type": "code",
   "execution_count": 45,
   "metadata": {
    "scrolled": true
   },
   "outputs": [
    {
     "name": "stdout",
     "output_type": "stream",
     "text": [
      "time_start: 479.28 time_end: 480.15 reassigned_to: chamber_novel       index_start: 12895 index_finish: 12921 distance: 1\n",
      "time_start: 728.26 time_end: 729.06 reassigned_to: chamber_partner       index_start: 20357 index_finish: 20381 distance: 1\n",
      "time_start: 858.99 time_end: 859.33 reassigned_to: chamber_novel       index_start: 24275 index_finish: 24285 distance: 1\n",
      "time_start: 862.46 time_end: 866.50 reassigned_to: chamber_novel       index_start: 24379 index_finish: 24500 distance: 1\n",
      "time_start: 932.30 time_end: 935.74 reassigned_to: chamber_partner       index_start: 26472 index_finish: 26575 distance: 1\n",
      "time_start: 1362.00 time_end: 1362.93 reassigned_to: chamber_partner       index_start: 39350 index_finish: 39378 distance: 1\n",
      "time_start: 1394.19 time_end: 1394.83 reassigned_to: chamber_partner       index_start: 40315 index_finish: 40334 distance: 1\n",
      "time_start: 1398.67 time_end: 1399.03 reassigned_to: chamber_partner       index_start: 40449 index_finish: 40460 distance: 1\n",
      "time_start: 2020.42 time_end: 2020.95 reassigned_to: chamber_novel       index_start: 59083 index_finish: 59099 distance: 1\n",
      "time_start: 2369.30 time_end: 2370.07 reassigned_to: chamber_novel       index_start: 69539 index_finish: 69562 distance: 1\n",
      "time_start: 3102.64 time_end: 3102.87 reassigned_to: chamber_partner       index_start: 91517 index_finish: 91524 distance: 1\n",
      "time_start: 3105.27 time_end: 3105.77 reassigned_to: chamber_partner       index_start: 91596 index_finish: 91611 distance: 1\n",
      "time_start: 3314.48 time_end: 3314.71 reassigned_to: chamber_novel       index_start: 97866 index_finish: 97873 distance: 1\n",
      "time_start: 4633.03 time_end: 4633.87 reassigned_to: chamber_partner       index_start: 137383 index_finish: 137408 distance: 1\n",
      "time_start: 4639.61 time_end: 4641.21 reassigned_to: chamber_partner       index_start: 137580 index_finish: 137628 distance: 1\n",
      "time_start: 4643.41 time_end: 4644.11 reassigned_to: chamber_partner       index_start: 137694 index_finish: 137715 distance: 1\n",
      "time_start: 4659.46 time_end: 4660.33 reassigned_to: chamber_novel       index_start: 138175 index_finish: 138201 distance: 1\n",
      "time_start: 4672.04 time_end: 4672.44 reassigned_to: chamber_novel       index_start: 138552 index_finish: 138564 distance: 1\n",
      "time_start: 4673.04 time_end: 4674.34 reassigned_to: chamber_novel       index_start: 138582 index_finish: 138621 distance: 1\n",
      "time_start: 4679.41 time_end: 4679.71 reassigned_to: chamber_partner       index_start: 138773 index_finish: 138782 distance: 1\n",
      "time_start: 4692.56 time_end: 4692.99 reassigned_to: chamber_partner       index_start: 139167 index_finish: 139180 distance: 1\n",
      "time_start: 4697.56 time_end: 4698.83 reassigned_to: chamber_partner       index_start: 139317 index_finish: 139355 distance: 1\n",
      "time_start: 4706.71 time_end: 4708.74 reassigned_to: chamber_partner       index_start: 139591 index_finish: 139652 distance: 1\n",
      "time_start: 4720.45 time_end: 4720.69 reassigned_to: chamber_partner       index_start: 140003 index_finish: 140010 distance: 1\n",
      "time_start: 4722.92 time_end: 4725.09 reassigned_to: chamber_partner       index_start: 140077 index_finish: 140142 distance: 1\n",
      "time_start: 4735.10 time_end: 4736.17 reassigned_to: chamber_partner       index_start: 140442 index_finish: 140474 distance: 1\n",
      "time_start: 4743.34 time_end: 4744.31 reassigned_to: chamber_partner       index_start: 140689 index_finish: 140718 distance: 1\n",
      "time_start: 4783.22 time_end: 4783.82 reassigned_to: chamber_partner       index_start: 141884 index_finish: 141902 distance: 1\n",
      "time_start: 4785.25 time_end: 4785.89 reassigned_to: chamber_partner       index_start: 141945 index_finish: 141964 distance: 1\n",
      "time_start: 4786.49 time_end: 4787.19 reassigned_to: chamber_partner       index_start: 141982 index_finish: 142003 distance: 1\n",
      "time_start: 5554.99 time_end: 5555.82 reassigned_to: chamber_partner       index_start: 165014 index_finish: 165039 distance: 1\n",
      "time_start: 5634.93 time_end: 5684.52 reassigned_to: chamber_novel       index_start: 167410 index_finish: 168896 distance: 1\n",
      "time_start: 6233.07 time_end: 6244.34 reassigned_to: chamber_partner       index_start: 185336 index_finish: 185674 distance: 1\n",
      "time_start: 6250.75 time_end: 6252.15 reassigned_to: chamber_partner       index_start: 185866 index_finish: 185908 distance: 1\n",
      "time_start: 6450.65 time_end: 6616.62 reassigned_to: chamber_partner       index_start: 191857 index_finish: 196831 distance: 1\n",
      "time_start: 6794.89 time_end: 6984.15 reassigned_to: chamber_partner       index_start: 202174 index_finish: 207846 distance: 1\n",
      "time_start: 8879.48 time_end: 9925.29 reassigned_to: chamber_partner       index_start: 264649 index_finish: 295992 distance: 1\n",
      "time_start: 10015.55 time_end: 10015.95 reassigned_to: chamber_partner       index_start: 298697 index_finish: 298709 distance: 1\n",
      "time_start: 10527.33 time_end: 10527.63 reassigned_to: chamber_partner       index_start: 314035 index_finish: 314044 distance: 1\n",
      "time_start: 10537.97 time_end: 10538.30 reassigned_to: chamber_partner       index_start: 314354 index_finish: 314364 distance: 1\n"
     ]
    }
   ],
   "source": [
    "new_df = df.copy()\n",
    "new_df['modified_due_to_uncertainty'] = 0\n",
    "for start, finish in pairs:\n",
    "    loc, col = get_previous_location(df, search_start_index=start, window = 3)\n",
    "    st = df.iloc[start][\"original_time\"]\n",
    "    ft = df.iloc[finish][\"original_time\"]\n",
    "    print(f'time_start: {st:.2f} time_end: {ft:.2f} reassigned_to: {col}       index_start: {start} index_finish: {finish} distance: {start-loc}')\n",
    "    \n",
    "    \n",
    "    all_cols = ['chamber_partner', 'chamber_novel', 'chamber_center']\n",
    "    for ac in all_cols:\n",
    "        if ac != col:\n",
    "            \n",
    "            new_df.loc[(new_df.index >= start) & (new_df.index <= finish), ac] = 0\n",
    "            new_df.loc[(new_df.index >= start) & (new_df.index <= finish), 'modified_due_to_uncertainty'] = 1"
   ]
  },
  {
   "cell_type": "code",
   "execution_count": 29,
   "metadata": {},
   "outputs": [],
   "source": [
    "ind = df.loc[(df.chamber_partner >0)&(df.chamber_novel >0) & (df.chamber_center == 0)].index"
   ]
  },
  {
   "cell_type": "code",
   "execution_count": 30,
   "metadata": {},
   "outputs": [
    {
     "data": {
      "text/plain": [
       "0            49.015682\n",
       "1            49.049049\n",
       "2            49.082416\n",
       "3            49.115782\n",
       "4            49.149149\n",
       "              ...     \n",
       "323671    10848.848849\n",
       "323672    10848.882216\n",
       "323673    10848.915582\n",
       "323674    10848.948949\n",
       "323675    10848.982316\n",
       "Name: original_time, Length: 323676, dtype: float64"
      ]
     },
     "execution_count": 30,
     "metadata": {},
     "output_type": "execute_result"
    }
   ],
   "source": [
    "df.original_time"
   ]
  },
  {
   "cell_type": "code",
   "execution_count": 31,
   "metadata": {},
   "outputs": [
    {
     "data": {
      "text/plain": [
       "13794.561227894563"
      ]
     },
     "execution_count": 31,
     "metadata": {},
     "output_type": "execute_result"
    }
   ],
   "source": [
    "np.sum(chamber_time(df, 29.97)) "
   ]
  },
  {
   "cell_type": "code",
   "execution_count": 43,
   "metadata": {},
   "outputs": [
    {
     "data": {
      "text/plain": [
       "10801.96863530197"
      ]
     },
     "execution_count": 43,
     "metadata": {},
     "output_type": "execute_result"
    }
   ],
   "source": [
    "np.sum(chamber_time(new_df, 29.97))"
   ]
  },
  {
   "cell_type": "code",
   "execution_count": 33,
   "metadata": {},
   "outputs": [],
   "source": [
    "ind = new_df.loc[(new_df.chamber_partner >0)&(new_df.chamber_novel >0) ].index"
   ]
  },
  {
   "cell_type": "code",
   "execution_count": 34,
   "metadata": {
    "scrolled": false
   },
   "outputs": [
    {
     "data": {
      "text/plain": [
       "323735"
      ]
     },
     "execution_count": 34,
     "metadata": {},
     "output_type": "execute_result"
    }
   ],
   "source": [
    "len(new_df.loc[new_df.chamber_partner >0]) + len(new_df.loc[new_df.chamber_novel >0])+ len(new_df.loc[new_df.chamber_center >0])"
   ]
  },
  {
   "cell_type": "code",
   "execution_count": 35,
   "metadata": {
    "scrolled": true
   },
   "outputs": [
    {
     "data": {
      "text/plain": [
       "0"
      ]
     },
     "execution_count": 35,
     "metadata": {},
     "output_type": "execute_result"
    }
   ],
   "source": [
    "len(new_df.loc[(df.chamber_partner >0)&(new_df.chamber_novel >0) & (new_df.chamber_center > 0)])"
   ]
  },
  {
   "cell_type": "code",
   "execution_count": 36,
   "metadata": {
    "scrolled": false
   },
   "outputs": [
    {
     "data": {
      "text/html": [
       "<div>\n",
       "<style scoped>\n",
       "    .dataframe tbody tr th:only-of-type {\n",
       "        vertical-align: middle;\n",
       "    }\n",
       "\n",
       "    .dataframe tbody tr th {\n",
       "        vertical-align: top;\n",
       "    }\n",
       "\n",
       "    .dataframe thead th {\n",
       "        text-align: right;\n",
       "    }\n",
       "</style>\n",
       "<table border=\"1\" class=\"dataframe\">\n",
       "  <thead>\n",
       "    <tr style=\"text-align: right;\">\n",
       "      <th></th>\n",
       "      <th>chamber_partner</th>\n",
       "      <th>chamber_novel</th>\n",
       "      <th>chamber_center</th>\n",
       "    </tr>\n",
       "  </thead>\n",
       "  <tbody>\n",
       "  </tbody>\n",
       "</table>\n",
       "</div>"
      ],
      "text/plain": [
       "Empty DataFrame\n",
       "Columns: [chamber_partner, chamber_novel, chamber_center]\n",
       "Index: []"
      ]
     },
     "execution_count": 36,
     "metadata": {},
     "output_type": "execute_result"
    }
   ],
   "source": [
    "new_df.loc[(df.chamber_partner >0)&(new_df.chamber_novel >0) & (new_df.chamber_center > 0), \n",
    "           'chamber_partner':'chamber_center']"
   ]
  },
  {
   "cell_type": "code",
   "execution_count": 37,
   "metadata": {},
   "outputs": [
    {
     "data": {
      "text/plain": [
       "323676"
      ]
     },
     "execution_count": 37,
     "metadata": {},
     "output_type": "execute_result"
    }
   ],
   "source": [
    "len(new_df)"
   ]
  },
  {
   "cell_type": "code",
   "execution_count": 38,
   "metadata": {},
   "outputs": [
    {
     "data": {
      "text/plain": [
       "(2366.666666666667, 7445.912579245913, 989.3893893893894)"
      ]
     },
     "execution_count": 38,
     "metadata": {},
     "output_type": "execute_result"
    }
   ],
   "source": [
    "chamber_time(new_df, 29.97)"
   ]
  },
  {
   "cell_type": "code",
   "execution_count": 39,
   "metadata": {},
   "outputs": [
    {
     "data": {
      "text/plain": [
       "314354    1\n",
       "314355    1\n",
       "314356    1\n",
       "314357    1\n",
       "314358    1\n",
       "314359    1\n",
       "314360    1\n",
       "314361    1\n",
       "314362    1\n",
       "314363    1\n",
       "314364    1\n",
       "Name: chamber_partner, dtype: int64"
      ]
     },
     "execution_count": 39,
     "metadata": {},
     "output_type": "execute_result"
    }
   ],
   "source": [
    "new_df.loc[(new_df.index >= start) & (new_df.index <= finish), col]"
   ]
  },
  {
   "cell_type": "code",
   "execution_count": 40,
   "metadata": {},
   "outputs": [
    {
     "data": {
      "text/plain": [
       "array([[ 12895,  12921],\n",
       "       [ 20357,  20381],\n",
       "       [ 24275,  24285],\n",
       "       [ 24379,  24500],\n",
       "       [ 26472,  26575],\n",
       "       [ 39350,  39378],\n",
       "       [ 40315,  40334],\n",
       "       [ 40449,  40460],\n",
       "       [ 59083,  59099],\n",
       "       [ 69539,  69562],\n",
       "       [ 91517,  91524],\n",
       "       [ 91596,  91611],\n",
       "       [ 97866,  97873],\n",
       "       [137383, 137408],\n",
       "       [137580, 137628],\n",
       "       [137694, 137715],\n",
       "       [138175, 138201],\n",
       "       [138552, 138564],\n",
       "       [138582, 138621],\n",
       "       [138773, 138782],\n",
       "       [139167, 139180],\n",
       "       [139317, 139355],\n",
       "       [139591, 139652],\n",
       "       [140003, 140010],\n",
       "       [140077, 140142],\n",
       "       [140442, 140474],\n",
       "       [140689, 140718],\n",
       "       [141884, 141902],\n",
       "       [141945, 141964],\n",
       "       [141982, 142003],\n",
       "       [165014, 165039],\n",
       "       [167410, 168896],\n",
       "       [185336, 185674],\n",
       "       [185866, 185908],\n",
       "       [191857, 196831],\n",
       "       [202174, 207846],\n",
       "       [264649, 295992],\n",
       "       [298697, 298709],\n",
       "       [314035, 314044],\n",
       "       [314354, 314364]])"
      ]
     },
     "execution_count": 40,
     "metadata": {},
     "output_type": "execute_result"
    }
   ],
   "source": [
    "pairs"
   ]
  },
  {
   "cell_type": "code",
   "execution_count": 41,
   "metadata": {},
   "outputs": [],
   "source": [
    "index_list = df.loc[(df.chamber_partner >0)&(df.chamber_novel >0) & (df.chamber_center > 0)].index\n",
    "diff = index_list[1:] - index_list[:-1]"
   ]
  },
  {
   "cell_type": "code",
   "execution_count": 42,
   "metadata": {},
   "outputs": [
    {
     "data": {
      "text/plain": [
       "array([[ 12895,  12921],\n",
       "       [ 20357,  20381],\n",
       "       [ 24275,  24285],\n",
       "       [ 24379,  24500],\n",
       "       [ 26472,  26575],\n",
       "       [ 39350,  39378],\n",
       "       [ 40315,  40334],\n",
       "       [ 40449,  40460],\n",
       "       [ 59083,  59099],\n",
       "       [ 69539,  69562],\n",
       "       [ 91517,  91524],\n",
       "       [ 91596,  91611],\n",
       "       [ 97866,  97873],\n",
       "       [137383, 137408],\n",
       "       [137580, 137628],\n",
       "       [137694, 137715],\n",
       "       [138175, 138201],\n",
       "       [138552, 138564],\n",
       "       [138582, 138621],\n",
       "       [138773, 138782],\n",
       "       [139167, 139180],\n",
       "       [139317, 139355],\n",
       "       [139591, 139652],\n",
       "       [140003, 140010],\n",
       "       [140077, 140142],\n",
       "       [140442, 140474],\n",
       "       [140689, 140718],\n",
       "       [141884, 141902],\n",
       "       [141945, 141964],\n",
       "       [141982, 142003],\n",
       "       [165014, 165039],\n",
       "       [167410, 168896],\n",
       "       [185336, 185674],\n",
       "       [185866, 185908],\n",
       "       [191857, 196831],\n",
       "       [202174, 207846],\n",
       "       [264649, 295992],\n",
       "       [298697, 298709],\n",
       "       [314035, 314044],\n",
       "       [314354, 314364]])"
      ]
     },
     "execution_count": 42,
     "metadata": {},
     "output_type": "execute_result"
    }
   ],
   "source": [
    "get_index_pairs_v2(index_list)"
   ]
  },
  {
   "cell_type": "code",
   "execution_count": 48,
   "metadata": {},
   "outputs": [],
   "source": [
    "cp = reload(cp)"
   ]
  },
  {
   "cell_type": "code",
   "execution_count": 49,
   "metadata": {},
   "outputs": [],
   "source": [
    "df_out, ani, fr, date, change_log = cp.parse_dev('/media/dprotter/Storage/Cleversys/CleverSys tracking txt files/Baseline_Cohort1/2020_11_23_2wkpaired_baseline_cohort1_try2_3_TCR.TXT')"
   ]
  },
  {
   "cell_type": "code",
   "execution_count": 55,
   "metadata": {},
   "outputs": [],
   "source": [
    "sli = df_out.loc[df_out.modified_due_to_uncertainty >0]"
   ]
  },
  {
   "cell_type": "code",
   "execution_count": 56,
   "metadata": {},
   "outputs": [
    {
     "data": {
      "text/html": [
       "<div>\n",
       "<style scoped>\n",
       "    .dataframe tbody tr th:only-of-type {\n",
       "        vertical-align: middle;\n",
       "    }\n",
       "\n",
       "    .dataframe tbody tr th {\n",
       "        vertical-align: top;\n",
       "    }\n",
       "\n",
       "    .dataframe thead th {\n",
       "        text-align: right;\n",
       "    }\n",
       "</style>\n",
       "<table border=\"1\" class=\"dataframe\">\n",
       "  <thead>\n",
       "    <tr style=\"text-align: right;\">\n",
       "      <th></th>\n",
       "      <th>FrameNum</th>\n",
       "      <th>[AnimalID]</th>\n",
       "      <th>CenterX(mm)</th>\n",
       "      <th>CenterY(mm)</th>\n",
       "      <th>NoseX(mm)</th>\n",
       "      <th>NoseY(mm)</th>\n",
       "      <th>Motion Orientation(-pi/2 to pi.2)</th>\n",
       "      <th>Unknown</th>\n",
       "      <th>Axis[0](mm)</th>\n",
       "      <th>Axis[1](mm)</th>\n",
       "      <th>...</th>\n",
       "      <th>Time</th>\n",
       "      <th>original_time</th>\n",
       "      <th>Treatment Group</th>\n",
       "      <th>distance_to_partner</th>\n",
       "      <th>distance_to_novel</th>\n",
       "      <th>distance_traveled</th>\n",
       "      <th>distance_traveled_partner</th>\n",
       "      <th>distance_traveled_novel</th>\n",
       "      <th>modified_due_to_uncertainty</th>\n",
       "      <th>reassigned_to</th>\n",
       "    </tr>\n",
       "  </thead>\n",
       "  <tbody>\n",
       "    <tr>\n",
       "      <th>12895</th>\n",
       "      <td>12896</td>\n",
       "      <td>3064</td>\n",
       "      <td>1860.0</td>\n",
       "      <td>315.0</td>\n",
       "      <td>1854.0</td>\n",
       "      <td>296.0</td>\n",
       "      <td>0.152941</td>\n",
       "      <td>1.848179</td>\n",
       "      <td>24.0</td>\n",
       "      <td>14.0</td>\n",
       "      <td>...</td>\n",
       "      <td>430.296964</td>\n",
       "      <td>479.279279</td>\n",
       "      <td>baseline</td>\n",
       "      <td>538.092929</td>\n",
       "      <td>176.638048</td>\n",
       "      <td>2.236068</td>\n",
       "      <td>0.0</td>\n",
       "      <td>0.0</td>\n",
       "      <td>1</td>\n",
       "      <td>chamber_novel</td>\n",
       "    </tr>\n",
       "    <tr>\n",
       "      <th>12896</th>\n",
       "      <td>12897</td>\n",
       "      <td>3064</td>\n",
       "      <td>1860.0</td>\n",
       "      <td>314.0</td>\n",
       "      <td>1857.0</td>\n",
       "      <td>293.0</td>\n",
       "      <td>0.117647</td>\n",
       "      <td>1.795059</td>\n",
       "      <td>26.0</td>\n",
       "      <td>13.0</td>\n",
       "      <td>...</td>\n",
       "      <td>430.330330</td>\n",
       "      <td>479.312646</td>\n",
       "      <td>baseline</td>\n",
       "      <td>538.112442</td>\n",
       "      <td>176.725776</td>\n",
       "      <td>1.000000</td>\n",
       "      <td>0.0</td>\n",
       "      <td>0.0</td>\n",
       "      <td>1</td>\n",
       "      <td>chamber_novel</td>\n",
       "    </tr>\n",
       "    <tr>\n",
       "      <th>20357</th>\n",
       "      <td>20358</td>\n",
       "      <td>3064</td>\n",
       "      <td>1483.0</td>\n",
       "      <td>311.0</td>\n",
       "      <td>1491.0</td>\n",
       "      <td>296.0</td>\n",
       "      <td>0.129412</td>\n",
       "      <td>1.231933</td>\n",
       "      <td>16.0</td>\n",
       "      <td>15.0</td>\n",
       "      <td>...</td>\n",
       "      <td>679.279279</td>\n",
       "      <td>728.261595</td>\n",
       "      <td>baseline</td>\n",
       "      <td>172.165618</td>\n",
       "      <td>549.263143</td>\n",
       "      <td>1.414214</td>\n",
       "      <td>0.0</td>\n",
       "      <td>0.0</td>\n",
       "      <td>1</td>\n",
       "      <td>chamber_partner</td>\n",
       "    </tr>\n",
       "    <tr>\n",
       "      <th>20358</th>\n",
       "      <td>20359</td>\n",
       "      <td>3064</td>\n",
       "      <td>1484.0</td>\n",
       "      <td>311.0</td>\n",
       "      <td>1491.0</td>\n",
       "      <td>296.0</td>\n",
       "      <td>0.062745</td>\n",
       "      <td>1.334976</td>\n",
       "      <td>19.0</td>\n",
       "      <td>16.0</td>\n",
       "      <td>...</td>\n",
       "      <td>679.312646</td>\n",
       "      <td>728.294962</td>\n",
       "      <td>baseline</td>\n",
       "      <td>173.158887</td>\n",
       "      <td>548.263623</td>\n",
       "      <td>1.000000</td>\n",
       "      <td>0.0</td>\n",
       "      <td>0.0</td>\n",
       "      <td>1</td>\n",
       "      <td>chamber_partner</td>\n",
       "    </tr>\n",
       "    <tr>\n",
       "      <th>20371</th>\n",
       "      <td>20372</td>\n",
       "      <td>3064</td>\n",
       "      <td>1483.0</td>\n",
       "      <td>312.0</td>\n",
       "      <td>1495.0</td>\n",
       "      <td>296.0</td>\n",
       "      <td>0.062745</td>\n",
       "      <td>0.863531</td>\n",
       "      <td>17.0</td>\n",
       "      <td>13.0</td>\n",
       "      <td>...</td>\n",
       "      <td>679.746413</td>\n",
       "      <td>728.728729</td>\n",
       "      <td>baseline</td>\n",
       "      <td>172.052318</td>\n",
       "      <td>549.233102</td>\n",
       "      <td>NaN</td>\n",
       "      <td>0.0</td>\n",
       "      <td>0.0</td>\n",
       "      <td>1</td>\n",
       "      <td>chamber_partner</td>\n",
       "    </tr>\n",
       "    <tr>\n",
       "      <th>...</th>\n",
       "      <td>...</td>\n",
       "      <td>...</td>\n",
       "      <td>...</td>\n",
       "      <td>...</td>\n",
       "      <td>...</td>\n",
       "      <td>...</td>\n",
       "      <td>...</td>\n",
       "      <td>...</td>\n",
       "      <td>...</td>\n",
       "      <td>...</td>\n",
       "      <td>...</td>\n",
       "      <td>...</td>\n",
       "      <td>...</td>\n",
       "      <td>...</td>\n",
       "      <td>...</td>\n",
       "      <td>...</td>\n",
       "      <td>...</td>\n",
       "      <td>...</td>\n",
       "      <td>...</td>\n",
       "      <td>...</td>\n",
       "      <td>...</td>\n",
       "    </tr>\n",
       "    <tr>\n",
       "      <th>314036</th>\n",
       "      <td>314037</td>\n",
       "      <td>3064</td>\n",
       "      <td>1498.0</td>\n",
       "      <td>224.0</td>\n",
       "      <td>1504.0</td>\n",
       "      <td>207.0</td>\n",
       "      <td>0.200000</td>\n",
       "      <td>1.289361</td>\n",
       "      <td>22.0</td>\n",
       "      <td>13.0</td>\n",
       "      <td>...</td>\n",
       "      <td>10478.378378</td>\n",
       "      <td>10527.360694</td>\n",
       "      <td>baseline</td>\n",
       "      <td>213.321354</td>\n",
       "      <td>513.272832</td>\n",
       "      <td>4.123106</td>\n",
       "      <td>0.0</td>\n",
       "      <td>0.0</td>\n",
       "      <td>1</td>\n",
       "      <td>chamber_partner</td>\n",
       "    </tr>\n",
       "    <tr>\n",
       "      <th>314041</th>\n",
       "      <td>314042</td>\n",
       "      <td>3064</td>\n",
       "      <td>1505.0</td>\n",
       "      <td>234.0</td>\n",
       "      <td>1495.0</td>\n",
       "      <td>258.0</td>\n",
       "      <td>0.200000</td>\n",
       "      <td>-2.248073</td>\n",
       "      <td>22.0</td>\n",
       "      <td>13.0</td>\n",
       "      <td>...</td>\n",
       "      <td>10478.545212</td>\n",
       "      <td>10527.527528</td>\n",
       "      <td>baseline</td>\n",
       "      <td>215.870331</td>\n",
       "      <td>505.866583</td>\n",
       "      <td>NaN</td>\n",
       "      <td>0.0</td>\n",
       "      <td>0.0</td>\n",
       "      <td>1</td>\n",
       "      <td>chamber_partner</td>\n",
       "    </tr>\n",
       "    <tr>\n",
       "      <th>314042</th>\n",
       "      <td>314043</td>\n",
       "      <td>3064</td>\n",
       "      <td>1503.0</td>\n",
       "      <td>240.0</td>\n",
       "      <td>1491.0</td>\n",
       "      <td>264.0</td>\n",
       "      <td>0.333333</td>\n",
       "      <td>-2.447321</td>\n",
       "      <td>27.0</td>\n",
       "      <td>13.0</td>\n",
       "      <td>...</td>\n",
       "      <td>10478.578579</td>\n",
       "      <td>10527.560894</td>\n",
       "      <td>baseline</td>\n",
       "      <td>211.697898</td>\n",
       "      <td>507.055224</td>\n",
       "      <td>6.324555</td>\n",
       "      <td>0.0</td>\n",
       "      <td>0.0</td>\n",
       "      <td>1</td>\n",
       "      <td>chamber_partner</td>\n",
       "    </tr>\n",
       "    <tr>\n",
       "      <th>314354</th>\n",
       "      <td>314355</td>\n",
       "      <td>3064</td>\n",
       "      <td>1482.0</td>\n",
       "      <td>313.0</td>\n",
       "      <td>1479.0</td>\n",
       "      <td>296.0</td>\n",
       "      <td>0.196078</td>\n",
       "      <td>1.445447</td>\n",
       "      <td>24.0</td>\n",
       "      <td>15.0</td>\n",
       "      <td>...</td>\n",
       "      <td>10488.988989</td>\n",
       "      <td>10537.971305</td>\n",
       "      <td>baseline</td>\n",
       "      <td>173.002890</td>\n",
       "      <td>520.096145</td>\n",
       "      <td>2.828427</td>\n",
       "      <td>0.0</td>\n",
       "      <td>0.0</td>\n",
       "      <td>1</td>\n",
       "      <td>chamber_partner</td>\n",
       "    </tr>\n",
       "    <tr>\n",
       "      <th>314355</th>\n",
       "      <td>314356</td>\n",
       "      <td>3064</td>\n",
       "      <td>1484.0</td>\n",
       "      <td>310.0</td>\n",
       "      <td>1479.0</td>\n",
       "      <td>293.0</td>\n",
       "      <td>0.196078</td>\n",
       "      <td>1.863444</td>\n",
       "      <td>18.0</td>\n",
       "      <td>13.0</td>\n",
       "      <td>...</td>\n",
       "      <td>10489.022356</td>\n",
       "      <td>10538.004671</td>\n",
       "      <td>baseline</td>\n",
       "      <td>175.045708</td>\n",
       "      <td>518.034748</td>\n",
       "      <td>3.605551</td>\n",
       "      <td>0.0</td>\n",
       "      <td>1.0</td>\n",
       "      <td>1</td>\n",
       "      <td>chamber_partner</td>\n",
       "    </tr>\n",
       "  </tbody>\n",
       "</table>\n",
       "<p>168 rows × 93 columns</p>\n",
       "</div>"
      ],
      "text/plain": [
       "        FrameNum [AnimalID]  CenterX(mm)  CenterY(mm)  NoseX(mm)  NoseY(mm)  \\\n",
       "12895      12896       3064       1860.0        315.0     1854.0      296.0   \n",
       "12896      12897       3064       1860.0        314.0     1857.0      293.0   \n",
       "20357      20358       3064       1483.0        311.0     1491.0      296.0   \n",
       "20358      20359       3064       1484.0        311.0     1491.0      296.0   \n",
       "20371      20372       3064       1483.0        312.0     1495.0      296.0   \n",
       "...          ...        ...          ...          ...        ...        ...   \n",
       "314036    314037       3064       1498.0        224.0     1504.0      207.0   \n",
       "314041    314042       3064       1505.0        234.0     1495.0      258.0   \n",
       "314042    314043       3064       1503.0        240.0     1491.0      264.0   \n",
       "314354    314355       3064       1482.0        313.0     1479.0      296.0   \n",
       "314355    314356       3064       1484.0        310.0     1479.0      293.0   \n",
       "\n",
       "        Motion Orientation(-pi/2 to pi.2)   Unknown  Axis[0](mm)  Axis[1](mm)  \\\n",
       "12895                            0.152941  1.848179         24.0         14.0   \n",
       "12896                            0.117647  1.795059         26.0         13.0   \n",
       "20357                            0.129412  1.231933         16.0         15.0   \n",
       "20358                            0.062745  1.334976         19.0         16.0   \n",
       "20371                            0.062745  0.863531         17.0         13.0   \n",
       "...                                   ...       ...          ...          ...   \n",
       "314036                           0.200000  1.289361         22.0         13.0   \n",
       "314041                           0.200000 -2.248073         22.0         13.0   \n",
       "314042                           0.333333 -2.447321         27.0         13.0   \n",
       "314354                           0.196078  1.445447         24.0         15.0   \n",
       "314355                           0.196078  1.863444         18.0         13.0   \n",
       "\n",
       "        ...          Time  original_time Treatment Group distance_to_partner  \\\n",
       "12895   ...    430.296964     479.279279        baseline          538.092929   \n",
       "12896   ...    430.330330     479.312646        baseline          538.112442   \n",
       "20357   ...    679.279279     728.261595        baseline          172.165618   \n",
       "20358   ...    679.312646     728.294962        baseline          173.158887   \n",
       "20371   ...    679.746413     728.728729        baseline          172.052318   \n",
       "...     ...           ...            ...             ...                 ...   \n",
       "314036  ...  10478.378378   10527.360694        baseline          213.321354   \n",
       "314041  ...  10478.545212   10527.527528        baseline          215.870331   \n",
       "314042  ...  10478.578579   10527.560894        baseline          211.697898   \n",
       "314354  ...  10488.988989   10537.971305        baseline          173.002890   \n",
       "314355  ...  10489.022356   10538.004671        baseline          175.045708   \n",
       "\n",
       "       distance_to_novel  distance_traveled  distance_traveled_partner  \\\n",
       "12895         176.638048           2.236068                        0.0   \n",
       "12896         176.725776           1.000000                        0.0   \n",
       "20357         549.263143           1.414214                        0.0   \n",
       "20358         548.263623           1.000000                        0.0   \n",
       "20371         549.233102                NaN                        0.0   \n",
       "...                  ...                ...                        ...   \n",
       "314036        513.272832           4.123106                        0.0   \n",
       "314041        505.866583                NaN                        0.0   \n",
       "314042        507.055224           6.324555                        0.0   \n",
       "314354        520.096145           2.828427                        0.0   \n",
       "314355        518.034748           3.605551                        0.0   \n",
       "\n",
       "        distance_traveled_novel  modified_due_to_uncertainty    reassigned_to  \n",
       "12895                       0.0                            1    chamber_novel  \n",
       "12896                       0.0                            1    chamber_novel  \n",
       "20357                       0.0                            1  chamber_partner  \n",
       "20358                       0.0                            1  chamber_partner  \n",
       "20371                       0.0                            1  chamber_partner  \n",
       "...                         ...                          ...              ...  \n",
       "314036                      0.0                            1  chamber_partner  \n",
       "314041                      0.0                            1  chamber_partner  \n",
       "314042                      0.0                            1  chamber_partner  \n",
       "314354                      0.0                            1  chamber_partner  \n",
       "314355                      1.0                            1  chamber_partner  \n",
       "\n",
       "[168 rows x 93 columns]"
      ]
     },
     "execution_count": 56,
     "metadata": {},
     "output_type": "execute_result"
    }
   ],
   "source": [
    "sli.loc[sli['CenterX(mm)'].notna()]"
   ]
  },
  {
   "cell_type": "code",
   "execution_count": 59,
   "metadata": {},
   "outputs": [],
   "source": [
    "cp = reload(cp)\n",
    "out = cp.parse('/media/dprotter/Storage/Cleversys/CleverSys tracking txt files/Baseline_Cohort1/2020_11_23_2wkpaired_baseline_cohort1_try2_2_TCR.TXT')"
   ]
  },
  {
   "cell_type": "code",
   "execution_count": 61,
   "metadata": {},
   "outputs": [
    {
     "data": {
      "text/plain": [
       "Index(['FrameNum', '[AnimalID]', 'CenterX(mm)', 'CenterY(mm)', 'NoseX(mm)',\n",
       "       'NoseY(mm)', 'Motion Orientation(-pi/2 to pi.2)', 'Unknown',\n",
       "       'Axis[0](mm)', 'Axis[1](mm)', 'TurningAngleSum', 'DistanceSum(mm)',\n",
       "       '[Center_Areas]', '[Nose_Areas]', '[AnimalID]_novel',\n",
       "       'CenterX(mm)_novel', 'CenterY(mm)_novel', 'NoseX(mm)_novel',\n",
       "       'NoseY(mm)_novel', 'Motion Orientation(-pi/2 to pi.2)_novel',\n",
       "       'Unknown_novel', 'Axis[0](mm)_novel', 'Axis[1](mm)_novel',\n",
       "       'TurningAngleSum_novel', 'DistanceSum(mm)_novel',\n",
       "       '[Center_Areas]_novel', '[Nose_Areas]_novel', '[AnimalID]_partner',\n",
       "       'CenterX(mm)_partner', 'CenterY(mm)_partner', 'NoseX(mm)_partner',\n",
       "       'NoseY(mm)_partner', 'Motion Orientation(-pi/2 to pi.2)_partner',\n",
       "       'Unknown_partner', 'Axis[0](mm)_partner', 'Axis[1](mm)_partner',\n",
       "       'TurningAngleSum_partner', 'DistanceSum(mm)_partner',\n",
       "       '[Center_Areas]_partner', '[Nose_Areas]_partner', 'EventRule1',\n",
       "       'EventRule2', 'EventRule3', 'chamber_novel', 'chamber_partner',\n",
       "       'chamber_center', 'EventRule7', 'EventRule8', 'EventRule9',\n",
       "       'EventRule10', 'EventRule11', 'EventRule12', 'EventRule13',\n",
       "       'EventRule14', 'EventRule15', 'EventRule16', 'huddle_novel',\n",
       "       'EventRule18', 'EventRule19', 'EventRule20', 'EventRule21',\n",
       "       'huddle_partner', 'EventRule23', 'EventRule24', 'EventRule25',\n",
       "       'EventRule26', 'EventRule27', 'EventRule28', 'EventRule29',\n",
       "       'EventRule30', 'novel_dist_less_10cm', 'partner_dist_less_10cm',\n",
       "       'EventRule33', 'EventRule34', 'EventRule35', 'EventRule36',\n",
       "       'EventRule37', 'EventRule38', 'EventRule39', 'EventRule40',\n",
       "       'EventRule41', 'EventRule42', 'Time', 'Treatment Group',\n",
       "       'distance_to_partner', 'distance_to_novel', 'distance_traveled',\n",
       "       'distance_traveled_partner', 'distance_traveled_novel'],\n",
       "      dtype='object')"
      ]
     },
     "execution_count": 61,
     "metadata": {},
     "output_type": "execute_result"
    }
   ],
   "source": [
    "out[0].columns"
   ]
  },
  {
   "cell_type": "code",
   "execution_count": null,
   "metadata": {},
   "outputs": [],
   "source": []
  }
 ],
 "metadata": {
  "kernelspec": {
   "display_name": "Python 3.8.3 64-bit ('computing': conda)",
   "language": "python",
   "name": "python38364bitcomputingconda680bd5489c9b42689ddb85b9e8de0c4d"
  },
  "language_info": {
   "codemirror_mode": {
    "name": "ipython",
    "version": 3
   },
   "file_extension": ".py",
   "mimetype": "text/x-python",
   "name": "python",
   "nbconvert_exporter": "python",
   "pygments_lexer": "ipython3",
   "version": "3.8.3"
  }
 },
 "nbformat": 4,
 "nbformat_minor": 4
}
