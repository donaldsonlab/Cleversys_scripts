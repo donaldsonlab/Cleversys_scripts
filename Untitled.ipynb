{
 "cells": [
  {
   "cell_type": "code",
   "execution_count": 1,
   "metadata": {},
   "outputs": [],
   "source": [
    "import numpy as np"
   ]
  },
  {
   "cell_type": "code",
   "execution_count": 4,
   "metadata": {},
   "outputs": [],
   "source": [
    "[1,4,14,24,34,44,54,64,74,84,85]\n",
    "cfr_age_range = [9,19,29,39,49,59,69,79,80]\n",
    "pop = [10.01+9.57,10.32+9.87,10.62+10.18,10+75+10.31,11.06+10.57,12+11.5,11.35+11.08,10.88+10.85,9.91+10.01,10.09+10.31,10.09+10.39,10.64+11.23,9.86+10.71,8/2+9.26,6.5+7.53,4.23+5.33,2.68+3.64,2.38+4.23]\n",
    "\n",
    "pop_adj = [pop[i]+pop[i+1] for i in range(0,len(pop)-1,2)]\n",
    "\n",
    "population = np.asarray([3848208,\n",
    "              15962067,\n",
    "              41075169,\n",
    "              42970800,\n",
    "              45697774,\n",
    "              41227888,\n",
    "              41631699,\n",
    "              42272636,\n",
    "              30492316,\n",
    "              15394374,\n",
    "              6544503,])"
   ]
  },
  {
   "cell_type": "code",
   "execution_count": 6,
   "metadata": {},
   "outputs": [
    {
     "data": {
      "text/plain": [
       "398.19"
      ]
     },
     "execution_count": 6,
     "metadata": {},
     "output_type": "execute_result"
    }
   ],
   "source": [
    "sum(pop_adj)"
   ]
  },
  {
   "cell_type": "code",
   "execution_count": null,
   "metadata": {},
   "outputs": [],
   "source": []
  }
 ],
 "metadata": {
  "kernelspec": {
   "display_name": "Python 3.8.3 64-bit ('computing': conda)",
   "language": "python",
   "name": "python38364bitcomputingconda680bd5489c9b42689ddb85b9e8de0c4d"
  },
  "language_info": {
   "codemirror_mode": {
    "name": "ipython",
    "version": 3
   },
   "file_extension": ".py",
   "mimetype": "text/x-python",
   "name": "python",
   "nbconvert_exporter": "python",
   "pygments_lexer": "ipython3",
   "version": "3.8.3"
  }
 },
 "nbformat": 4,
 "nbformat_minor": 4
}
